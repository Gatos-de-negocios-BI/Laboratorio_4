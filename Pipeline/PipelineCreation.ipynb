{
 "cells": [
  {
   "cell_type": "code",
   "execution_count": null,
   "metadata": {},
   "outputs": [],
   "source": [
    "import pandas as pd\n",
    "from sklearn.pipeline import Pipeline\n",
    "from sklearn.compose import ColumnTransformer\n",
    "from sklearn.preprocessing import PolynomialFeatures, Normalizer, FunctionTransformer\n",
    "from sklearn.linear_model import LinearRegression\n",
    "from sklearn.model_selection import train_test_split\n",
    "from joblib import dump\n"
   ]
  },
  {
   "cell_type": "code",
   "execution_count": null,
   "id": "36bc86af",
   "metadata": {},
   "outputs": [],
   "source": [
    "data = pd.read_csv('assets/university_admission_train.csv')"
   ]
  },
  {
   "cell_type": "code",
   "execution_count": null,
   "id": "722663bd",
   "metadata": {},
   "outputs": [],
   "source": [
    "def remove_outliers(col):\n",
    "    col = col.loc[(col <= col.mean() + (1/2 * col.mean()))]\n",
    "    return col"
   ]
  },
  {
   "cell_type": "code",
   "execution_count": null,
   "id": "9fa3466c",
   "metadata": {},
   "outputs": [],
   "source": [
    "features = ['GRE Score','TOEFL Score', 'University Rating', 'SOP', 'LOR ', 'CGPA', 'Research']\n",
    "\n",
    "pipeline5 = Pipeline(\n",
    "    [\n",
    "        ('feature_selection', ColumnTransformer(\n",
    "            [\n",
    "                ('selector', 'passthrough', features),\n",
    "                ('poly', PolynomialFeatures(degree = 2, include_bias = False), ['SOP', 'TOEFL Score', 'GRE Score', 'University Rating','LOR ','CGPA', 'Research']),\n",
    "                ('outlier_remover', FunctionTransformer(remove_outliers, validate=False), ['Admission Points'])\n",
    "            ]\n",
    "        )),\n",
    "        ('normalization', Normalizer()),\n",
    "        ('model', LinearRegression())\n",
    "    ]\n",
    ")"
   ]
  },
  {
   "cell_type": "code",
   "execution_count": null,
   "id": "61edf616",
   "metadata": {},
   "outputs": [],
   "source": [
    "x_train, y_train, x_test, y_test = train_test_split(data[features], data['Admission Points'], test_size=0.3, random_state=1)"
   ]
  },
  {
   "cell_type": "code",
   "execution_count": null,
   "id": "84b243da",
   "metadata": {},
   "outputs": [],
   "source": [
    "pipeline5.fit(x_train, y_train)"
   ]
  },
  {
   "cell_type": "code",
   "execution_count": null,
   "id": "008e0f94",
   "metadata": {},
   "outputs": [],
   "source": [
    "print(pipeline5.score(x_test, y_test))"
   ]
  },
  {
   "cell_type": "code",
   "execution_count": null,
   "id": "225c8781",
   "metadata": {},
   "outputs": [],
   "source": [
    "dump(pipeline5, 'assets/modelo.joblib')"
   ]
  }
 ],
 "metadata": {
  "kernelspec": {
   "display_name": "Python 3.8.5 64-bit",
   "language": "python",
   "name": "python3"
  },
  "language_info": {
   "name": "python",
   "version": "3.8.5"
  },
  "vscode": {
   "interpreter": {
    "hash": "29bac995d0c570c5b3d713e56b73d69daaa4566681c7e7cdcd767b69a1be78b9"
   }
  }
 },
 "nbformat": 4,
 "nbformat_minor": 5
}
